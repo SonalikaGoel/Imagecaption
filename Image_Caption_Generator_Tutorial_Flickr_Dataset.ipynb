{
  "metadata": {
    "kernelspec": {
      "language": "python",
      "display_name": "Python 3",
      "name": "python3"
    },
    "language_info": {
      "pygments_lexer": "ipython3",
      "nbconvert_exporter": "python",
      "version": "3.6.4",
      "file_extension": ".py",
      "codemirror_mode": {
        "name": "ipython",
        "version": 3
      },
      "name": "python",
      "mimetype": "text/x-python"
    },
    "colab": {
      "name": "Image Caption Generator Tutorial - Flickr Dataset",
      "provenance": [],
      "include_colab_link": true
    }
  },
  "nbformat_minor": 0,
  "nbformat": 4,
  "cells": [
    {
      "cell_type": "markdown",
      "metadata": {
        "id": "view-in-github",
        "colab_type": "text"
      },
      "source": [
        "<a href=\"https://colab.research.google.com/github/SonalikaGoel/Imagecaption/blob/main/Image_Caption_Generator_Tutorial_Flickr_Dataset.ipynb\" target=\"_parent\"><img src=\"https://colab.research.google.com/assets/colab-badge.svg\" alt=\"Open In Colab\"/></a>"
      ]
    },
    {
      "source": [
        "\n",
        "# IMPORTANT: RUN THIS CELL IN ORDER TO IMPORT YOUR KAGGLE DATA SOURCES\n",
        "# TO THE CORRECT LOCATION (/kaggle/input) IN YOUR NOTEBOOK,\n",
        "# THEN FEEL FREE TO DELETE THIS CELL.\n",
        "# NOTE: THIS NOTEBOOK ENVIRONMENT DIFFERS FROM KAGGLE'S PYTHON\n",
        "# ENVIRONMENT SO THERE MAY BE MISSING LIBRARIES USED BY YOUR\n",
        "# NOTEBOOK.\n",
        "\n",
        "import os\n",
        "import sys\n",
        "from tempfile import NamedTemporaryFile\n",
        "from urllib.request import urlopen\n",
        "from urllib.parse import unquote, urlparse\n",
        "from urllib.error import HTTPError\n",
        "from zipfile import ZipFile\n",
        "import tarfile\n",
        "import shutil\n",
        "\n",
        "CHUNK_SIZE = 40960\n",
        "DATA_SOURCE_MAPPING = 'flickr8k:https%3A%2F%2Fstorage.googleapis.com%2Fkaggle-data-sets%2F623289%2F1111676%2Fbundle%2Farchive.zip%3FX-Goog-Algorithm%3DGOOG4-RSA-SHA256%26X-Goog-Credential%3Dgcp-kaggle-com%2540kaggle-161607.iam.gserviceaccount.com%252F20240319%252Fauto%252Fstorage%252Fgoog4_request%26X-Goog-Date%3D20240319T103924Z%26X-Goog-Expires%3D259200%26X-Goog-SignedHeaders%3Dhost%26X-Goog-Signature%3D629f225a0ae9dd6716f2717a9f5554e8247a8e4c427a0f6cc8c92c14168385657d3632a63eec0f37b20cc1258ee2e37f355d2848a54fa090e6b9edb361307793964d732f5677bf2244ecdf622039f4c0900e52c9079f2760ac4693a7de7d11e4c2e5f0a0da83d1c5d196c665e0d86e3c5f54f3e965fbcc3b6f5960696b59dde6a610739c6e03721af29ff9e9b62c3b108b7c660916c926c4da21c97493c1d4717bbd350fa59f2dee7d3d439909ea28aa4cd0bd70e18c470850ec6e5c0e72b5236543f1926bcc9f97625c091b860c9f7b2f0a324281dadab1bd9ddb6bfc67619e3f7f52ee3aa525d67130e6a4e459ad0dbb49686f912912640fba155f171888a3'\n",
        "\n",
        "KAGGLE_INPUT_PATH='/kaggle/input'\n",
        "KAGGLE_WORKING_PATH='/kaggle/working'\n",
        "KAGGLE_SYMLINK='kaggle'\n",
        "\n",
        "!umount /kaggle/input/ 2> /dev/null\n",
        "shutil.rmtree('/kaggle/input', ignore_errors=True)\n",
        "os.makedirs(KAGGLE_INPUT_PATH, 0o777, exist_ok=True)\n",
        "os.makedirs(KAGGLE_WORKING_PATH, 0o777, exist_ok=True)\n",
        "\n",
        "try:\n",
        "  os.symlink(KAGGLE_INPUT_PATH, os.path.join(\"..\", 'input'), target_is_directory=True)\n",
        "except FileExistsError:\n",
        "  pass\n",
        "try:\n",
        "  os.symlink(KAGGLE_WORKING_PATH, os.path.join(\"..\", 'working'), target_is_directory=True)\n",
        "except FileExistsError:\n",
        "  pass\n",
        "\n",
        "for data_source_mapping in DATA_SOURCE_MAPPING.split(','):\n",
        "    directory, download_url_encoded = data_source_mapping.split(':')\n",
        "    download_url = unquote(download_url_encoded)\n",
        "    filename = urlparse(download_url).path\n",
        "    destination_path = os.path.join(KAGGLE_INPUT_PATH, directory)\n",
        "    try:\n",
        "        with urlopen(download_url) as fileres, NamedTemporaryFile() as tfile:\n",
        "            total_length = fileres.headers['content-length']\n",
        "            print(f'Downloading {directory}, {total_length} bytes compressed')\n",
        "            dl = 0\n",
        "            data = fileres.read(CHUNK_SIZE)\n",
        "            while len(data) > 0:\n",
        "                dl += len(data)\n",
        "                tfile.write(data)\n",
        "                done = int(50 * dl / int(total_length))\n",
        "                sys.stdout.write(f\"\\r[{'=' * done}{' ' * (50-done)}] {dl} bytes downloaded\")\n",
        "                sys.stdout.flush()\n",
        "                data = fileres.read(CHUNK_SIZE)\n",
        "            if filename.endswith('.zip'):\n",
        "              with ZipFile(tfile) as zfile:\n",
        "                zfile.extractall(destination_path)\n",
        "            else:\n",
        "              with tarfile.open(tfile.name) as tarfile:\n",
        "                tarfile.extractall(destination_path)\n",
        "            print(f'\\nDownloaded and uncompressed: {directory}')\n",
        "    except HTTPError as e:\n",
        "        print(f'Failed to load (likely expired) {download_url} to path {destination_path}')\n",
        "        continue\n",
        "    except OSError as e:\n",
        "        print(f'Failed to load {download_url} to path {destination_path}')\n",
        "        continue\n",
        "\n",
        "print('Data source import complete.')\n"
      ],
      "metadata": {
        "id": "7-4EvuuUv5Qa"
      },
      "cell_type": "code",
      "outputs": [],
      "execution_count": null
    },
    {
      "cell_type": "markdown",
      "source": [
        "## Import Modules"
      ],
      "metadata": {
        "id": "0bFDep91v5Qd"
      }
    },
    {
      "cell_type": "code",
      "source": [
        "import os\n",
        "import pickle\n",
        "import numpy as np\n",
        "from tqdm.notebook import tqdm\n",
        "\n",
        "from tensorflow.keras.applications.vgg16 import VGG16, preprocess_input\n",
        "from tensorflow.keras.preprocessing.image import load_img, img_to_array\n",
        "from tensorflow.keras.preprocessing.text import Tokenizer\n",
        "from tensorflow.keras.preprocessing.sequence import pad_sequences\n",
        "from tensorflow.keras.models import Model\n",
        "from tensorflow.keras.utils import to_categorical, plot_model\n",
        "from tensorflow.keras.layers import Input, Dense, LSTM, Embedding, Dropout, add"
      ],
      "metadata": {
        "execution": {
          "iopub.status.busy": "2023-02-07T10:13:31.550211Z",
          "iopub.execute_input": "2023-02-07T10:13:31.551313Z",
          "iopub.status.idle": "2023-02-07T10:13:37.208297Z",
          "shell.execute_reply.started": "2023-02-07T10:13:31.551165Z",
          "shell.execute_reply": "2023-02-07T10:13:37.207318Z"
        },
        "trusted": true,
        "id": "rJFjBIxFv5Qf"
      },
      "execution_count": null,
      "outputs": []
    },
    {
      "cell_type": "code",
      "source": [
        "BASE_DIR = '/kaggle/input/flickr8k'\n",
        "WORKING_DIR = '/kaggle/working'"
      ],
      "metadata": {
        "execution": {
          "iopub.status.busy": "2023-02-07T10:13:37.214687Z",
          "iopub.execute_input": "2023-02-07T10:13:37.217605Z",
          "iopub.status.idle": "2023-02-07T10:13:37.227195Z",
          "shell.execute_reply.started": "2023-02-07T10:13:37.217548Z",
          "shell.execute_reply": "2023-02-07T10:13:37.22216Z"
        },
        "trusted": true,
        "id": "FoM6oeEkv5Qf"
      },
      "execution_count": null,
      "outputs": []
    },
    {
      "cell_type": "markdown",
      "source": [
        "## Extract Image Features"
      ],
      "metadata": {
        "id": "kIJJbUGtv5Qf"
      }
    },
    {
      "cell_type": "code",
      "source": [
        "# load vgg16 model\n",
        "model = VGG16()\n",
        "# restructure the model\n",
        "model = Model(inputs=model.inputs, outputs=model.layers[-2].output)\n",
        "# summarize\n",
        "print(model.summary())"
      ],
      "metadata": {
        "execution": {
          "iopub.status.busy": "2023-02-07T10:13:37.230066Z",
          "iopub.execute_input": "2023-02-07T10:13:37.230449Z",
          "iopub.status.idle": "2023-02-07T10:13:47.204047Z",
          "shell.execute_reply.started": "2023-02-07T10:13:37.230398Z",
          "shell.execute_reply": "2023-02-07T10:13:47.203295Z"
        },
        "trusted": true,
        "id": "j6Up5Xdlv5Qf"
      },
      "execution_count": null,
      "outputs": []
    },
    {
      "cell_type": "code",
      "source": [
        "# extract features from image\n",
        "features = {}\n",
        "directory = os.path.join(BASE_DIR, 'Images')\n",
        "\n",
        "for img_name in tqdm(os.listdir(directory)):\n",
        "    # load the image from file\n",
        "    img_path = directory + '/' + img_name\n",
        "    image = load_img(img_path, target_size=(224, 224))\n",
        "    # convert image pixels to numpy array\n",
        "    image = img_to_array(image)\n",
        "    # reshape data for model\n",
        "    image = image.reshape((1, image.shape[0], image.shape[1], image.shape[2]))\n",
        "    # preprocess image for vgg\n",
        "    image = preprocess_input(image)\n",
        "    # extract features\n",
        "    feature = model.predict(image, verbose=0)\n",
        "    # get image ID\n",
        "    image_id = img_name.split('.')[0]\n",
        "    # store feature\n",
        "    features[image_id] = feature"
      ],
      "metadata": {
        "execution": {
          "iopub.status.busy": "2023-02-07T10:13:47.20544Z",
          "iopub.execute_input": "2023-02-07T10:13:47.205726Z",
          "iopub.status.idle": "2023-02-07T10:21:48.161845Z",
          "shell.execute_reply.started": "2023-02-07T10:13:47.20569Z",
          "shell.execute_reply": "2023-02-07T10:21:48.161158Z"
        },
        "trusted": true,
        "id": "JMtvJodxv5Qg"
      },
      "execution_count": null,
      "outputs": []
    },
    {
      "cell_type": "code",
      "source": [
        "# store features in pickle\n",
        "pickle.dump(features, open(os.path.join(WORKING_DIR, 'features.pkl'), 'wb'))"
      ],
      "metadata": {
        "execution": {
          "iopub.status.busy": "2023-02-07T10:21:48.164288Z",
          "iopub.execute_input": "2023-02-07T10:21:48.164554Z",
          "iopub.status.idle": "2023-02-07T10:21:48.504135Z",
          "shell.execute_reply.started": "2023-02-07T10:21:48.164516Z",
          "shell.execute_reply": "2023-02-07T10:21:48.503391Z"
        },
        "trusted": true,
        "id": "DE4ABUD1v5Qg"
      },
      "execution_count": null,
      "outputs": []
    },
    {
      "cell_type": "code",
      "source": [
        "# load features from pickle\n",
        "with open(os.path.join(WORKING_DIR, 'features.pkl'), 'rb') as f:\n",
        "    features = pickle.load(f)"
      ],
      "metadata": {
        "execution": {
          "iopub.status.busy": "2023-02-07T10:21:48.505367Z",
          "iopub.execute_input": "2023-02-07T10:21:48.505719Z",
          "iopub.status.idle": "2023-02-07T10:21:48.66776Z",
          "shell.execute_reply.started": "2023-02-07T10:21:48.505681Z",
          "shell.execute_reply": "2023-02-07T10:21:48.667014Z"
        },
        "trusted": true,
        "id": "1tSDibTJv5Qg"
      },
      "execution_count": null,
      "outputs": []
    },
    {
      "cell_type": "markdown",
      "source": [
        "## Load the Captions Data"
      ],
      "metadata": {
        "id": "RdD7h5qev5Qh"
      }
    },
    {
      "cell_type": "code",
      "source": [
        "with open(os.path.join(BASE_DIR, 'captions.txt'), 'r') as f:\n",
        "    next(f)\n",
        "    captions_doc = f.read()"
      ],
      "metadata": {
        "execution": {
          "iopub.status.busy": "2023-02-07T10:21:48.669762Z",
          "iopub.execute_input": "2023-02-07T10:21:48.670038Z",
          "iopub.status.idle": "2023-02-07T10:21:48.714184Z",
          "shell.execute_reply.started": "2023-02-07T10:21:48.670002Z",
          "shell.execute_reply": "2023-02-07T10:21:48.713514Z"
        },
        "trusted": true,
        "id": "7RkMLikav5Qh"
      },
      "execution_count": null,
      "outputs": []
    },
    {
      "cell_type": "code",
      "source": [
        "# create mapping of image to captions\n",
        "mapping = {}\n",
        "# process lines\n",
        "for line in tqdm(captions_doc.split('\\n')):\n",
        "    # split the line by comma(,)\n",
        "    tokens = line.split(',')\n",
        "    if len(line) < 2:\n",
        "        continue\n",
        "    image_id, caption = tokens[0], tokens[1:]\n",
        "    # remove extension from image ID\n",
        "    image_id = image_id.split('.')[0]\n",
        "    # convert caption list to string\n",
        "    caption = \" \".join(caption)\n",
        "    # create list if needed\n",
        "    if image_id not in mapping:\n",
        "        mapping[image_id] = []\n",
        "    # store the caption\n",
        "    mapping[image_id].append(caption)"
      ],
      "metadata": {
        "execution": {
          "iopub.status.busy": "2023-02-07T10:21:48.715381Z",
          "iopub.execute_input": "2023-02-07T10:21:48.715793Z",
          "iopub.status.idle": "2023-02-07T10:21:48.834754Z",
          "shell.execute_reply.started": "2023-02-07T10:21:48.715756Z",
          "shell.execute_reply": "2023-02-07T10:21:48.833943Z"
        },
        "trusted": true,
        "id": "-OV1-PqKv5Qh"
      },
      "execution_count": null,
      "outputs": []
    },
    {
      "cell_type": "code",
      "source": [
        "len(mapping)"
      ],
      "metadata": {
        "execution": {
          "iopub.status.busy": "2023-02-07T10:21:48.836333Z",
          "iopub.execute_input": "2023-02-07T10:21:48.836592Z",
          "iopub.status.idle": "2023-02-07T10:21:48.844657Z",
          "shell.execute_reply.started": "2023-02-07T10:21:48.836557Z",
          "shell.execute_reply": "2023-02-07T10:21:48.843814Z"
        },
        "trusted": true,
        "id": "J_rjb8vdv5Qh"
      },
      "execution_count": null,
      "outputs": []
    },
    {
      "cell_type": "markdown",
      "source": [
        "## Preprocess Text Data"
      ],
      "metadata": {
        "id": "pphYFWhXv5Qh"
      }
    },
    {
      "cell_type": "code",
      "source": [
        "def clean(mapping):\n",
        "    for key, captions in mapping.items():\n",
        "        for i in range(len(captions)):\n",
        "            # take one caption at a time\n",
        "            caption = captions[i]\n",
        "            # preprocessing steps\n",
        "            # convert to lowercase\n",
        "            caption = caption.lower()\n",
        "            # delete digits, special chars, etc.,\n",
        "            caption = caption.replace('[^A-Za-z]', '')\n",
        "            # delete additional spaces\n",
        "            caption = caption.replace('\\s+', ' ')\n",
        "            # add start and end tags to the caption\n",
        "            caption = 'startseq ' + \" \".join([word for word in caption.split() if len(word)>1]) + ' endseq'\n",
        "            captions[i] = caption"
      ],
      "metadata": {
        "execution": {
          "iopub.status.busy": "2023-02-07T10:21:48.845954Z",
          "iopub.execute_input": "2023-02-07T10:21:48.846301Z",
          "iopub.status.idle": "2023-02-07T10:21:48.85463Z",
          "shell.execute_reply.started": "2023-02-07T10:21:48.846266Z",
          "shell.execute_reply": "2023-02-07T10:21:48.853828Z"
        },
        "trusted": true,
        "id": "KP483dihv5Qi"
      },
      "execution_count": null,
      "outputs": []
    },
    {
      "cell_type": "code",
      "source": [
        "# before preprocess of text\n",
        "mapping['1000268201_693b08cb0e']"
      ],
      "metadata": {
        "execution": {
          "iopub.status.busy": "2023-02-07T10:21:48.856171Z",
          "iopub.execute_input": "2023-02-07T10:21:48.856492Z",
          "iopub.status.idle": "2023-02-07T10:21:48.866089Z",
          "shell.execute_reply.started": "2023-02-07T10:21:48.856457Z",
          "shell.execute_reply": "2023-02-07T10:21:48.865247Z"
        },
        "trusted": true,
        "id": "Pn2dLEvov5Qi"
      },
      "execution_count": null,
      "outputs": []
    },
    {
      "cell_type": "code",
      "source": [
        "# preprocess the text\n",
        "clean(mapping)"
      ],
      "metadata": {
        "execution": {
          "iopub.status.busy": "2023-02-07T10:21:48.867567Z",
          "iopub.execute_input": "2023-02-07T10:21:48.867815Z",
          "iopub.status.idle": "2023-02-07T10:21:49.000921Z",
          "shell.execute_reply.started": "2023-02-07T10:21:48.867781Z",
          "shell.execute_reply": "2023-02-07T10:21:49.000274Z"
        },
        "trusted": true,
        "id": "Pn2anxQUv5Qi"
      },
      "execution_count": null,
      "outputs": []
    },
    {
      "cell_type": "code",
      "source": [
        "# after preprocess of text\n",
        "mapping['1000268201_693b08cb0e']"
      ],
      "metadata": {
        "execution": {
          "iopub.status.busy": "2023-02-07T10:21:49.003036Z",
          "iopub.execute_input": "2023-02-07T10:21:49.003555Z",
          "iopub.status.idle": "2023-02-07T10:21:49.008837Z",
          "shell.execute_reply.started": "2023-02-07T10:21:49.003516Z",
          "shell.execute_reply": "2023-02-07T10:21:49.00804Z"
        },
        "trusted": true,
        "id": "YnohDHiEv5Qi"
      },
      "execution_count": null,
      "outputs": []
    },
    {
      "cell_type": "code",
      "source": [
        "all_captions = []\n",
        "for key in mapping:\n",
        "    for caption in mapping[key]:\n",
        "        all_captions.append(caption)"
      ],
      "metadata": {
        "execution": {
          "iopub.status.busy": "2023-02-07T10:21:49.012778Z",
          "iopub.execute_input": "2023-02-07T10:21:49.012979Z",
          "iopub.status.idle": "2023-02-07T10:21:49.027345Z",
          "shell.execute_reply.started": "2023-02-07T10:21:49.012955Z",
          "shell.execute_reply": "2023-02-07T10:21:49.026627Z"
        },
        "trusted": true,
        "id": "Z0E3rZVfv5Qi"
      },
      "execution_count": null,
      "outputs": []
    },
    {
      "cell_type": "code",
      "source": [
        "len(all_captions)"
      ],
      "metadata": {
        "execution": {
          "iopub.status.busy": "2023-02-07T10:21:49.030067Z",
          "iopub.execute_input": "2023-02-07T10:21:49.030317Z",
          "iopub.status.idle": "2023-02-07T10:21:49.039763Z",
          "shell.execute_reply.started": "2023-02-07T10:21:49.030291Z",
          "shell.execute_reply": "2023-02-07T10:21:49.038516Z"
        },
        "trusted": true,
        "id": "2okgaWuTv5Qi"
      },
      "execution_count": null,
      "outputs": []
    },
    {
      "cell_type": "code",
      "source": [
        "all_captions[:10]"
      ],
      "metadata": {
        "execution": {
          "iopub.status.busy": "2023-02-07T10:21:49.040955Z",
          "iopub.execute_input": "2023-02-07T10:21:49.041175Z",
          "iopub.status.idle": "2023-02-07T10:21:49.050045Z",
          "shell.execute_reply.started": "2023-02-07T10:21:49.04115Z",
          "shell.execute_reply": "2023-02-07T10:21:49.049289Z"
        },
        "trusted": true,
        "id": "z3x67Vfgv5Qi"
      },
      "execution_count": null,
      "outputs": []
    },
    {
      "cell_type": "code",
      "source": [
        "# tokenize the text\n",
        "tokenizer = Tokenizer()\n",
        "tokenizer.fit_on_texts(all_captions)\n",
        "vocab_size = len(tokenizer.word_index) + 1"
      ],
      "metadata": {
        "execution": {
          "iopub.status.busy": "2023-02-07T10:21:49.051602Z",
          "iopub.execute_input": "2023-02-07T10:21:49.051848Z",
          "iopub.status.idle": "2023-02-07T10:21:49.652813Z",
          "shell.execute_reply.started": "2023-02-07T10:21:49.051811Z",
          "shell.execute_reply": "2023-02-07T10:21:49.652086Z"
        },
        "trusted": true,
        "id": "_SkLtexyv5Qi"
      },
      "execution_count": null,
      "outputs": []
    },
    {
      "cell_type": "code",
      "source": [
        "vocab_size"
      ],
      "metadata": {
        "execution": {
          "iopub.status.busy": "2023-02-07T10:21:49.654123Z",
          "iopub.execute_input": "2023-02-07T10:21:49.654387Z",
          "iopub.status.idle": "2023-02-07T10:21:49.659925Z",
          "shell.execute_reply.started": "2023-02-07T10:21:49.654351Z",
          "shell.execute_reply": "2023-02-07T10:21:49.659179Z"
        },
        "trusted": true,
        "id": "OU6villlv5Qj"
      },
      "execution_count": null,
      "outputs": []
    },
    {
      "cell_type": "code",
      "source": [
        "# get maximum length of the caption available\n",
        "max_length = max(len(caption.split()) for caption in all_captions)\n",
        "max_length"
      ],
      "metadata": {
        "execution": {
          "iopub.status.busy": "2023-02-07T10:21:49.661357Z",
          "iopub.execute_input": "2023-02-07T10:21:49.661812Z",
          "iopub.status.idle": "2023-02-07T10:21:49.694924Z",
          "shell.execute_reply.started": "2023-02-07T10:21:49.661777Z",
          "shell.execute_reply": "2023-02-07T10:21:49.694118Z"
        },
        "trusted": true,
        "id": "AViIYS2Iv5Qj"
      },
      "execution_count": null,
      "outputs": []
    },
    {
      "cell_type": "markdown",
      "source": [
        "## Train Test Split"
      ],
      "metadata": {
        "id": "iu5_nIy-v5Qj"
      }
    },
    {
      "cell_type": "code",
      "source": [
        "image_ids = list(mapping.keys())\n",
        "split = int(len(image_ids) * 0.90)\n",
        "train = image_ids[:split]\n",
        "test = image_ids[split:]"
      ],
      "metadata": {
        "execution": {
          "iopub.status.busy": "2023-02-07T10:21:49.696099Z",
          "iopub.execute_input": "2023-02-07T10:21:49.696426Z",
          "iopub.status.idle": "2023-02-07T10:21:49.702679Z",
          "shell.execute_reply.started": "2023-02-07T10:21:49.696388Z",
          "shell.execute_reply": "2023-02-07T10:21:49.701918Z"
        },
        "trusted": true,
        "id": "uq7IlS4Tv5Qj"
      },
      "execution_count": null,
      "outputs": []
    },
    {
      "cell_type": "code",
      "source": [
        "# startseq girl going into wooden building endseq\n",
        "#        X                   y\n",
        "# startseq                   girl\n",
        "# startseq girl              going\n",
        "# startseq girl going        into\n",
        "# ...........\n",
        "# startseq girl going into wooden building      endseq"
      ],
      "metadata": {
        "execution": {
          "iopub.status.busy": "2023-02-07T10:21:49.704882Z",
          "iopub.execute_input": "2023-02-07T10:21:49.705437Z",
          "iopub.status.idle": "2023-02-07T10:21:49.712379Z",
          "shell.execute_reply.started": "2023-02-07T10:21:49.705401Z",
          "shell.execute_reply": "2023-02-07T10:21:49.711645Z"
        },
        "trusted": true,
        "id": "LmCd22C-v5Qj"
      },
      "execution_count": null,
      "outputs": []
    },
    {
      "cell_type": "code",
      "source": [
        "# create data generator to get data in batch (avoids session crash)\n",
        "def data_generator(data_keys, mapping, features, tokenizer, max_length, vocab_size, batch_size):\n",
        "    # loop over images\n",
        "    X1, X2, y = list(), list(), list()\n",
        "    n = 0\n",
        "    while 1:\n",
        "        for key in data_keys:\n",
        "            n += 1\n",
        "            captions = mapping[key]\n",
        "            # process each caption\n",
        "            for caption in captions:\n",
        "                # encode the sequence\n",
        "                seq = tokenizer.texts_to_sequences([caption])[0]\n",
        "                # split the sequence into X, y pairs\n",
        "                for i in range(1, len(seq)):\n",
        "                    # split into input and output pairs\n",
        "                    in_seq, out_seq = seq[:i], seq[i]\n",
        "                    # pad input sequence\n",
        "                    in_seq = pad_sequences([in_seq], maxlen=max_length)[0]\n",
        "                    # encode output sequence\n",
        "                    out_seq = to_categorical([out_seq], num_classes=vocab_size)[0]\n",
        "\n",
        "                    # store the sequences\n",
        "                    X1.append(features[key][0])\n",
        "                    X2.append(in_seq)\n",
        "                    y.append(out_seq)\n",
        "            if n == batch_size:\n",
        "                X1, X2, y = np.array(X1), np.array(X2), np.array(y)\n",
        "                yield [X1, X2], y\n",
        "                X1, X2, y = list(), list(), list()\n",
        "                n = 0"
      ],
      "metadata": {
        "execution": {
          "iopub.status.busy": "2023-02-07T10:21:49.713827Z",
          "iopub.execute_input": "2023-02-07T10:21:49.714085Z",
          "iopub.status.idle": "2023-02-07T10:21:49.726838Z",
          "shell.execute_reply.started": "2023-02-07T10:21:49.714042Z",
          "shell.execute_reply": "2023-02-07T10:21:49.726129Z"
        },
        "trusted": true,
        "id": "AlN_mmbkv5Qj"
      },
      "execution_count": null,
      "outputs": []
    },
    {
      "cell_type": "markdown",
      "source": [
        "## Model Creation"
      ],
      "metadata": {
        "id": "u8xc2tXBv5Qj"
      }
    },
    {
      "cell_type": "code",
      "source": [
        "# encoder model\n",
        "# image feature layers\n",
        "inputs1 = Input(shape=(4096,))\n",
        "fe1 = Dropout(0.4)(inputs1)\n",
        "fe2 = Dense(256, activation='relu')(fe1)\n",
        "# sequence feature layers\n",
        "inputs2 = Input(shape=(max_length,))\n",
        "se1 = Embedding(vocab_size, 256, mask_zero=True)(inputs2)\n",
        "se2 = Dropout(0.4)(se1)\n",
        "se3 = LSTM(256)(se2)\n",
        "\n",
        "# decoder model\n",
        "decoder1 = add([fe2, se3])\n",
        "decoder2 = Dense(256, activation='relu')(decoder1)\n",
        "outputs = Dense(vocab_size, activation='softmax')(decoder2)\n",
        "\n",
        "model = Model(inputs=[inputs1, inputs2], outputs=outputs)\n",
        "model.compile(loss='categorical_crossentropy', optimizer='adam')\n",
        "\n",
        "# plot the model\n",
        "plot_model(model, show_shapes=True)"
      ],
      "metadata": {
        "execution": {
          "iopub.status.busy": "2023-02-07T10:21:49.728135Z",
          "iopub.execute_input": "2023-02-07T10:21:49.728528Z",
          "iopub.status.idle": "2023-02-07T10:21:51.71513Z",
          "shell.execute_reply.started": "2023-02-07T10:21:49.728495Z",
          "shell.execute_reply": "2023-02-07T10:21:51.714157Z"
        },
        "trusted": true,
        "id": "w4y9SBdIv5Qj"
      },
      "execution_count": null,
      "outputs": []
    },
    {
      "cell_type": "code",
      "source": [
        "# train the model\n",
        "epochs = 20\n",
        "batch_size = 32\n",
        "steps = len(train) // batch_size\n",
        "\n",
        "for i in range(epochs):\n",
        "    # create data generator\n",
        "    generator = data_generator(train, mapping, features, tokenizer, max_length, vocab_size, batch_size)\n",
        "    # fit for one epoch\n",
        "    model.fit(generator, epochs=1, steps_per_epoch=steps, verbose=1)"
      ],
      "metadata": {
        "execution": {
          "iopub.status.busy": "2023-02-07T10:21:51.716547Z",
          "iopub.execute_input": "2023-02-07T10:21:51.716765Z",
          "iopub.status.idle": "2023-02-07T10:46:01.759832Z",
          "shell.execute_reply.started": "2023-02-07T10:21:51.716739Z",
          "shell.execute_reply": "2023-02-07T10:46:01.75909Z"
        },
        "trusted": true,
        "id": "fPbFx2Fjv5Qk"
      },
      "execution_count": null,
      "outputs": []
    },
    {
      "cell_type": "code",
      "source": [
        "# save the model\n",
        "model.save(WORKING_DIR+'/best_model.h5')"
      ],
      "metadata": {
        "execution": {
          "iopub.status.busy": "2023-02-07T10:46:01.761461Z",
          "iopub.execute_input": "2023-02-07T10:46:01.761725Z",
          "iopub.status.idle": "2023-02-07T10:46:01.899394Z",
          "shell.execute_reply.started": "2023-02-07T10:46:01.76169Z",
          "shell.execute_reply": "2023-02-07T10:46:01.898616Z"
        },
        "trusted": true,
        "id": "sJgKMPW2v5Qk"
      },
      "execution_count": null,
      "outputs": []
    },
    {
      "cell_type": "markdown",
      "source": [
        "## Generate Captions for the Image"
      ],
      "metadata": {
        "id": "vJJEsOEvv5Qk"
      }
    },
    {
      "cell_type": "code",
      "source": [
        "def idx_to_word(integer, tokenizer):\n",
        "    for word, index in tokenizer.word_index.items():\n",
        "        if index == integer:\n",
        "            return word\n",
        "    return None"
      ],
      "metadata": {
        "execution": {
          "iopub.status.busy": "2023-02-07T10:46:01.900831Z",
          "iopub.execute_input": "2023-02-07T10:46:01.901292Z",
          "iopub.status.idle": "2023-02-07T10:46:01.906362Z",
          "shell.execute_reply.started": "2023-02-07T10:46:01.901251Z",
          "shell.execute_reply": "2023-02-07T10:46:01.905395Z"
        },
        "trusted": true,
        "id": "QQVEEFvav5Qk"
      },
      "execution_count": null,
      "outputs": []
    },
    {
      "cell_type": "code",
      "source": [
        "# generate caption for an image\n",
        "def predict_caption(model, image, tokenizer, max_length):\n",
        "    # add start tag for generation process\n",
        "    in_text = 'startseq'\n",
        "    # iterate over the max length of sequence\n",
        "    for i in range(max_length):\n",
        "        # encode input sequence\n",
        "        sequence = tokenizer.texts_to_sequences([in_text])[0]\n",
        "        # pad the sequence\n",
        "        sequence = pad_sequences([sequence], max_length)\n",
        "        # predict next word\n",
        "        yhat = model.predict([image, sequence], verbose=0)\n",
        "        # get index with high probability\n",
        "        yhat = np.argmax(yhat)\n",
        "        # convert index to word\n",
        "        word = idx_to_word(yhat, tokenizer)\n",
        "        # stop if word not found\n",
        "        if word is None:\n",
        "            break\n",
        "        # append word as input for generating next word\n",
        "        in_text += \" \" + word\n",
        "        # stop if we reach end tag\n",
        "        if word == 'endseq':\n",
        "            break\n",
        "\n",
        "    return in_text"
      ],
      "metadata": {
        "execution": {
          "iopub.status.busy": "2023-02-07T10:46:01.907673Z",
          "iopub.execute_input": "2023-02-07T10:46:01.907921Z",
          "iopub.status.idle": "2023-02-07T10:46:01.917823Z",
          "shell.execute_reply.started": "2023-02-07T10:46:01.907889Z",
          "shell.execute_reply": "2023-02-07T10:46:01.917118Z"
        },
        "trusted": true,
        "id": "ticH5Q3xv5Qk"
      },
      "execution_count": null,
      "outputs": []
    },
    {
      "cell_type": "code",
      "source": [
        "from nltk.translate.bleu_score import corpus_bleu\n",
        "# validate with test data\n",
        "actual, predicted = list(), list()\n",
        "\n",
        "for key in tqdm(test):\n",
        "    # get actual caption\n",
        "    captions = mapping[key]\n",
        "    # predict the caption for image\n",
        "    y_pred = predict_caption(model, features[key], tokenizer, max_length)\n",
        "    # split into words\n",
        "    actual_captions = [caption.split() for caption in captions]\n",
        "    y_pred = y_pred.split()\n",
        "    # append to the list\n",
        "    actual.append(actual_captions)\n",
        "    predicted.append(y_pred)\n",
        "\n",
        "# calcuate BLEU score\n",
        "print(\"BLEU-1: %f\" % corpus_bleu(actual, predicted, weights=(1.0, 0, 0, 0)))\n",
        "print(\"BLEU-2: %f\" % corpus_bleu(actual, predicted, weights=(0.5, 0.5, 0, 0)))"
      ],
      "metadata": {
        "execution": {
          "iopub.status.busy": "2023-02-07T10:46:01.919046Z",
          "iopub.execute_input": "2023-02-07T10:46:01.919392Z",
          "iopub.status.idle": "2023-02-07T10:51:54.129693Z",
          "shell.execute_reply.started": "2023-02-07T10:46:01.919354Z",
          "shell.execute_reply": "2023-02-07T10:51:54.128841Z"
        },
        "trusted": true,
        "id": "nTx8AdYpv5Qk"
      },
      "execution_count": null,
      "outputs": []
    },
    {
      "cell_type": "markdown",
      "source": [
        "## Visualize the Results"
      ],
      "metadata": {
        "id": "fI8eBk4fv5Qk"
      }
    },
    {
      "cell_type": "code",
      "source": [
        "from PIL import Image\n",
        "import matplotlib.pyplot as plt\n",
        "def generate_caption(image_name):\n",
        "    # load the image\n",
        "    # image_name = \"1001773457_577c3a7d70.jpg\"\n",
        "    image_id = image_name.split('.')[0]\n",
        "    img_path = os.path.join(BASE_DIR, \"Images\", image_name)\n",
        "    image = Image.open(img_path)\n",
        "    captions = mapping[image_id]\n",
        "    print('---------------------Actual---------------------')\n",
        "    for caption in captions:\n",
        "        print(caption)\n",
        "    # predict the caption\n",
        "    y_pred = predict_caption(model, features[image_id], tokenizer, max_length)\n",
        "    print('--------------------Predicted--------------------')\n",
        "    print(y_pred)\n",
        "    plt.imshow(image)"
      ],
      "metadata": {
        "execution": {
          "iopub.status.busy": "2023-02-07T10:51:54.131261Z",
          "iopub.execute_input": "2023-02-07T10:51:54.131516Z",
          "iopub.status.idle": "2023-02-07T10:51:54.138619Z",
          "shell.execute_reply.started": "2023-02-07T10:51:54.131481Z",
          "shell.execute_reply": "2023-02-07T10:51:54.137623Z"
        },
        "trusted": true,
        "id": "2uzNTLIdv5Qk"
      },
      "execution_count": null,
      "outputs": []
    },
    {
      "cell_type": "code",
      "source": [
        "generate_caption(\"1001773457_577c3a7d70.jpg\")"
      ],
      "metadata": {
        "execution": {
          "iopub.status.busy": "2023-02-07T10:51:54.140123Z",
          "iopub.execute_input": "2023-02-07T10:51:54.14039Z",
          "iopub.status.idle": "2023-02-07T10:51:54.877356Z",
          "shell.execute_reply.started": "2023-02-07T10:51:54.140356Z",
          "shell.execute_reply": "2023-02-07T10:51:54.876658Z"
        },
        "trusted": true,
        "id": "-Otyq24uv5Qk"
      },
      "execution_count": null,
      "outputs": []
    },
    {
      "cell_type": "code",
      "source": [
        "generate_caption(\"1002674143_1b742ab4b8.jpg\")"
      ],
      "metadata": {
        "execution": {
          "iopub.status.busy": "2023-02-07T10:51:54.878485Z",
          "iopub.execute_input": "2023-02-07T10:51:54.879179Z",
          "iopub.status.idle": "2023-02-07T10:51:55.679656Z",
          "shell.execute_reply.started": "2023-02-07T10:51:54.879134Z",
          "shell.execute_reply": "2023-02-07T10:51:55.677996Z"
        },
        "trusted": true,
        "id": "_ctCQcXWv5Qo"
      },
      "execution_count": null,
      "outputs": []
    },
    {
      "cell_type": "code",
      "source": [
        "generate_caption(\"101669240_b2d3e7f17b.jpg\")"
      ],
      "metadata": {
        "execution": {
          "iopub.status.busy": "2023-02-07T10:51:55.681043Z",
          "iopub.execute_input": "2023-02-07T10:51:55.681552Z",
          "iopub.status.idle": "2023-02-07T10:51:56.441786Z",
          "shell.execute_reply.started": "2023-02-07T10:51:55.681506Z",
          "shell.execute_reply": "2023-02-07T10:51:56.440912Z"
        },
        "trusted": true,
        "id": "6sW-sd3gv5Qo"
      },
      "execution_count": null,
      "outputs": []
    },
    {
      "cell_type": "markdown",
      "source": [
        "## Test with Real Image"
      ],
      "metadata": {
        "id": "EA8kzMfKv5Qo"
      }
    },
    {
      "cell_type": "code",
      "source": [
        "vgg_model = VGG16()\n",
        "# restructure the model\n",
        "vgg_model = Model(inputs=vgg_model.inputs, outputs=vgg_model.layers[-2].output)"
      ],
      "metadata": {
        "execution": {
          "iopub.status.busy": "2023-02-07T10:52:49.644329Z",
          "iopub.execute_input": "2023-02-07T10:52:49.644967Z",
          "iopub.status.idle": "2023-02-07T10:52:52.452913Z",
          "shell.execute_reply.started": "2023-02-07T10:52:49.64493Z",
          "shell.execute_reply": "2023-02-07T10:52:52.452096Z"
        },
        "trusted": true,
        "id": "z0_G6irHv5Qo"
      },
      "execution_count": null,
      "outputs": []
    },
    {
      "cell_type": "code",
      "source": [
        "image_path = '/kaggle/input/flickr8k/Images/1000268201_693b08cb0e.jpg'\n",
        "# load image\n",
        "image = load_img(image_path, target_size=(224, 224))\n",
        "# convert image pixels to numpy array\n",
        "image = img_to_array(image)\n",
        "# reshape data for model\n",
        "image = image.reshape((1, image.shape[0], image.shape[1], image.shape[2]))\n",
        "# preprocess image for vgg\n",
        "image = preprocess_input(image)\n",
        "# extract features\n",
        "feature = vgg_model.predict(image, verbose=0)\n",
        "# predict from the trained model\n",
        "predict_caption(model, feature, tokenizer, max_length)"
      ],
      "metadata": {
        "execution": {
          "iopub.status.busy": "2023-02-07T10:53:08.418775Z",
          "iopub.execute_input": "2023-02-07T10:53:08.419042Z",
          "iopub.status.idle": "2023-02-07T10:53:09.313035Z",
          "shell.execute_reply.started": "2023-02-07T10:53:08.419012Z",
          "shell.execute_reply": "2023-02-07T10:53:09.312141Z"
        },
        "trusted": true,
        "id": "zgeGGYUQv5Qo"
      },
      "execution_count": null,
      "outputs": []
    },
    {
      "cell_type": "code",
      "source": [],
      "metadata": {
        "id": "jsoJ3ZeMv5Qp"
      },
      "execution_count": null,
      "outputs": []
    },
    {
      "cell_type": "code",
      "source": [],
      "metadata": {
        "id": "TbXOP832v5Qp"
      },
      "execution_count": null,
      "outputs": []
    },
    {
      "cell_type": "code",
      "source": [],
      "metadata": {
        "id": "6LvbBzDCv5Qp"
      },
      "execution_count": null,
      "outputs": []
    },
    {
      "cell_type": "code",
      "source": [],
      "metadata": {
        "id": "ZRMsz9uJv5Qp"
      },
      "execution_count": null,
      "outputs": []
    }
  ]
}